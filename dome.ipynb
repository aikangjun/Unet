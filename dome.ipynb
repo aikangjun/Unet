{
 "cells": [
  {
   "cell_type": "code",
   "execution_count": 56,
   "metadata": {
    "collapsed": true
   },
   "outputs": [],
   "source": [
    "import tensorflow as tf\n",
    "import os\n",
    "import config.configure as cfg\n",
    "import random"
   ]
  },
  {
   "cell_type": "code",
   "execution_count": 57,
   "outputs": [
    {
     "name": "stdout",
     "output_type": "stream",
     "text": [
      "[ 5406  9640  8480   701   982  5739  7734  1985 10963  9233 10567  4864\n",
      " 10892  9691  5788  1528  4066  8386 14149  7405  2730  2823  7427  1485\n",
      "  1703 14765  5003  4863  8438  8796 12194 11206  8232  4330 11309  6201\n",
      " 15779  6547 14640  3417 15564  2622  1694  9913  9416  3654 14063  2489\n",
      " 11668 13609  4646   397   570  1570  1575 14255 11144 12370  4750  5035\n",
      "  2481  7883 15292  7740 13604  8272  6555 16771  4477  2179  2844  1288\n",
      "  7631  7454  5188 12805  7431  8443  8204  7309  3546 15512 13801 14399\n",
      "  2229 11192 11169  4037 11263  9220  9018  3020 16203  5467 10631  8020\n",
      " 11344   710   945 16819]\n"
     ]
    },
    {
     "data": {
      "text/plain": "array(['.\\\\VOCdevkit\\\\VOC2012\\\\JPEGImages\\\\2009_000603.jpg',\n       '.\\\\VOCdevkit\\\\VOC2012\\\\JPEGImages\\\\2010_003670.jpg',\n       '.\\\\VOCdevkit\\\\VOC2012\\\\JPEGImages\\\\2010_001328.jpg',\n       '.\\\\VOCdevkit\\\\VOC2012\\\\JPEGImages\\\\2007_009458.jpg',\n       '.\\\\VOCdevkit\\\\VOC2012\\\\JPEGImages\\\\2008_000455.jpg',\n       '.\\\\VOCdevkit\\\\VOC2012\\\\JPEGImages\\\\2009_001242.jpg',\n       '.\\\\VOCdevkit\\\\VOC2012\\\\JPEGImages\\\\2009_005149.jpg',\n       '.\\\\VOCdevkit\\\\VOC2012\\\\JPEGImages\\\\2008_002481.jpg',\n       '.\\\\VOCdevkit\\\\VOC2012\\\\JPEGImages\\\\2010_006269.jpg',\n       '.\\\\VOCdevkit\\\\VOC2012\\\\JPEGImages\\\\2010_002839.jpg',\n       '.\\\\VOCdevkit\\\\VOC2012\\\\JPEGImages\\\\2010_005508.jpg',\n       '.\\\\VOCdevkit\\\\VOC2012\\\\JPEGImages\\\\2008_008301.jpg',\n       '.\\\\VOCdevkit\\\\VOC2012\\\\JPEGImages\\\\2010_006141.jpg',\n       '.\\\\VOCdevkit\\\\VOC2012\\\\JPEGImages\\\\2010_003770.jpg',\n       '.\\\\VOCdevkit\\\\VOC2012\\\\JPEGImages\\\\2009_001332.jpg',\n       '.\\\\VOCdevkit\\\\VOC2012\\\\JPEGImages\\\\2008_001566.jpg',\n       '.\\\\VOCdevkit\\\\VOC2012\\\\JPEGImages\\\\2008_006686.jpg',\n       '.\\\\VOCdevkit\\\\VOC2012\\\\JPEGImages\\\\2010_001139.jpg',\n       '.\\\\VOCdevkit\\\\VOC2012\\\\JPEGImages\\\\2011_005613.jpg',\n       '.\\\\VOCdevkit\\\\VOC2012\\\\JPEGImages\\\\2009_004499.jpg',\n       '.\\\\VOCdevkit\\\\VOC2012\\\\JPEGImages\\\\2008_003989.jpg',\n       '.\\\\VOCdevkit\\\\VOC2012\\\\JPEGImages\\\\2008_004178.jpg',\n       '.\\\\VOCdevkit\\\\VOC2012\\\\JPEGImages\\\\2009_004539.jpg',\n       '.\\\\VOCdevkit\\\\VOC2012\\\\JPEGImages\\\\2008_001479.jpg',\n       '.\\\\VOCdevkit\\\\VOC2012\\\\JPEGImages\\\\2008_001907.jpg',\n       '.\\\\VOCdevkit\\\\VOC2012\\\\JPEGImages\\\\2011_006828.jpg',\n       '.\\\\VOCdevkit\\\\VOC2012\\\\JPEGImages\\\\2008_008585.jpg',\n       '.\\\\VOCdevkit\\\\VOC2012\\\\JPEGImages\\\\2008_008300.jpg',\n       '.\\\\VOCdevkit\\\\VOC2012\\\\JPEGImages\\\\2010_001246.jpg',\n       '.\\\\VOCdevkit\\\\VOC2012\\\\JPEGImages\\\\2010_001968.jpg',\n       '.\\\\VOCdevkit\\\\VOC2012\\\\JPEGImages\\\\2011_001713.jpg',\n       '.\\\\VOCdevkit\\\\VOC2012\\\\JPEGImages\\\\2010_006782.jpg',\n       '.\\\\VOCdevkit\\\\VOC2012\\\\JPEGImages\\\\2010_000827.jpg',\n       '.\\\\VOCdevkit\\\\VOC2012\\\\JPEGImages\\\\2008_007218.jpg',\n       '.\\\\VOCdevkit\\\\VOC2012\\\\JPEGImages\\\\2010_006971.jpg',\n       '.\\\\VOCdevkit\\\\VOC2012\\\\JPEGImages\\\\2009_002144.jpg',\n       '.\\\\VOCdevkit\\\\VOC2012\\\\JPEGImages\\\\2012_001664.jpg',\n       '.\\\\VOCdevkit\\\\VOC2012\\\\JPEGImages\\\\2009_002813.jpg',\n       '.\\\\VOCdevkit\\\\VOC2012\\\\JPEGImages\\\\2011_006587.jpg',\n       '.\\\\VOCdevkit\\\\VOC2012\\\\JPEGImages\\\\2008_005362.jpg',\n       '.\\\\VOCdevkit\\\\VOC2012\\\\JPEGImages\\\\2012_001244.jpg',\n       '.\\\\VOCdevkit\\\\VOC2012\\\\JPEGImages\\\\2008_003776.jpg',\n       '.\\\\VOCdevkit\\\\VOC2012\\\\JPEGImages\\\\2008_001882.jpg',\n       '.\\\\VOCdevkit\\\\VOC2012\\\\JPEGImages\\\\2010_004209.jpg',\n       '.\\\\VOCdevkit\\\\VOC2012\\\\JPEGImages\\\\2010_003206.jpg',\n       '.\\\\VOCdevkit\\\\VOC2012\\\\JPEGImages\\\\2008_005848.jpg',\n       '.\\\\VOCdevkit\\\\VOC2012\\\\JPEGImages\\\\2011_005442.jpg',\n       '.\\\\VOCdevkit\\\\VOC2012\\\\JPEGImages\\\\2008_003504.jpg',\n       '.\\\\VOCdevkit\\\\VOC2012\\\\JPEGImages\\\\2011_000658.jpg',\n       '.\\\\VOCdevkit\\\\VOC2012\\\\JPEGImages\\\\2011_004520.jpg',\n       '.\\\\VOCdevkit\\\\VOC2012\\\\JPEGImages\\\\2008_007853.jpg',\n       '.\\\\VOCdevkit\\\\VOC2012\\\\JPEGImages\\\\2007_005691.jpg',\n       '.\\\\VOCdevkit\\\\VOC2012\\\\JPEGImages\\\\2007_007748.jpg',\n       '.\\\\VOCdevkit\\\\VOC2012\\\\JPEGImages\\\\2008_001652.jpg',\n       '.\\\\VOCdevkit\\\\VOC2012\\\\JPEGImages\\\\2008_001661.jpg',\n       '.\\\\VOCdevkit\\\\VOC2012\\\\JPEGImages\\\\2011_005810.jpg',\n       '.\\\\VOCdevkit\\\\VOC2012\\\\JPEGImages\\\\2010_006657.jpg',\n       '.\\\\VOCdevkit\\\\VOC2012\\\\JPEGImages\\\\2011_002040.jpg',\n       '.\\\\VOCdevkit\\\\VOC2012\\\\JPEGImages\\\\2008_008064.jpg',\n       '.\\\\VOCdevkit\\\\VOC2012\\\\JPEGImages\\\\2008_008642.jpg',\n       '.\\\\VOCdevkit\\\\VOC2012\\\\JPEGImages\\\\2008_003492.jpg',\n       '.\\\\VOCdevkit\\\\VOC2012\\\\JPEGImages\\\\2010_000133.jpg',\n       '.\\\\VOCdevkit\\\\VOC2012\\\\JPEGImages\\\\2012_000718.jpg',\n       '.\\\\VOCdevkit\\\\VOC2012\\\\JPEGImages\\\\2009_005156.jpg',\n       '.\\\\VOCdevkit\\\\VOC2012\\\\JPEGImages\\\\2011_004510.jpg',\n       '.\\\\VOCdevkit\\\\VOC2012\\\\JPEGImages\\\\2010_000912.jpg',\n       '.\\\\VOCdevkit\\\\VOC2012\\\\JPEGImages\\\\2009_002831.jpg',\n       '.\\\\VOCdevkit\\\\VOC2012\\\\JPEGImages\\\\2012_003664.jpg',\n       '.\\\\VOCdevkit\\\\VOC2012\\\\JPEGImages\\\\2008_007513.jpg',\n       '.\\\\VOCdevkit\\\\VOC2012\\\\JPEGImages\\\\2008_002880.jpg',\n       '.\\\\VOCdevkit\\\\VOC2012\\\\JPEGImages\\\\2008_004231.jpg',\n       '.\\\\VOCdevkit\\\\VOC2012\\\\JPEGImages\\\\2008_001073.jpg',\n       '.\\\\VOCdevkit\\\\VOC2012\\\\JPEGImages\\\\2009_004944.jpg',\n       '.\\\\VOCdevkit\\\\VOC2012\\\\JPEGImages\\\\2009_004588.jpg',\n       '.\\\\VOCdevkit\\\\VOC2012\\\\JPEGImages\\\\2009_000171.jpg',\n       '.\\\\VOCdevkit\\\\VOC2012\\\\JPEGImages\\\\2011_002917.jpg',\n       '.\\\\VOCdevkit\\\\VOC2012\\\\JPEGImages\\\\2009_004545.jpg',\n       '.\\\\VOCdevkit\\\\VOC2012\\\\JPEGImages\\\\2010_001254.jpg',\n       '.\\\\VOCdevkit\\\\VOC2012\\\\JPEGImages\\\\2010_000769.jpg',\n       '.\\\\VOCdevkit\\\\VOC2012\\\\JPEGImages\\\\2009_004295.jpg',\n       '.\\\\VOCdevkit\\\\VOC2012\\\\JPEGImages\\\\2008_005633.jpg',\n       '.\\\\VOCdevkit\\\\VOC2012\\\\JPEGImages\\\\2012_001143.jpg',\n       '.\\\\VOCdevkit\\\\VOC2012\\\\JPEGImages\\\\2011_004903.jpg',\n       '.\\\\VOCdevkit\\\\VOC2012\\\\JPEGImages\\\\2011_006073.jpg',\n       '.\\\\VOCdevkit\\\\VOC2012\\\\JPEGImages\\\\2008_002983.jpg',\n       '.\\\\VOCdevkit\\\\VOC2012\\\\JPEGImages\\\\2010_006758.jpg',\n       '.\\\\VOCdevkit\\\\VOC2012\\\\JPEGImages\\\\2010_006717.jpg',\n       '.\\\\VOCdevkit\\\\VOC2012\\\\JPEGImages\\\\2008_006624.jpg',\n       '.\\\\VOCdevkit\\\\VOC2012\\\\JPEGImages\\\\2010_006894.jpg',\n       '.\\\\VOCdevkit\\\\VOC2012\\\\JPEGImages\\\\2010_002814.jpg',\n       '.\\\\VOCdevkit\\\\VOC2012\\\\JPEGImages\\\\2010_002413.jpg',\n       '.\\\\VOCdevkit\\\\VOC2012\\\\JPEGImages\\\\2008_004568.jpg',\n       '.\\\\VOCdevkit\\\\VOC2012\\\\JPEGImages\\\\2012_002485.jpg',\n       '.\\\\VOCdevkit\\\\VOC2012\\\\JPEGImages\\\\2009_000722.jpg',\n       '.\\\\VOCdevkit\\\\VOC2012\\\\JPEGImages\\\\2010_005626.jpg',\n       '.\\\\VOCdevkit\\\\VOC2012\\\\JPEGImages\\\\2010_000406.jpg',\n       '.\\\\VOCdevkit\\\\VOC2012\\\\JPEGImages\\\\2011_000048.jpg',\n       '.\\\\VOCdevkit\\\\VOC2012\\\\JPEGImages\\\\2007_009579.jpg',\n       '.\\\\VOCdevkit\\\\VOC2012\\\\JPEGImages\\\\2008_000383.jpg',\n       '.\\\\VOCdevkit\\\\VOC2012\\\\JPEGImages\\\\2012_003761.jpg'], dtype='<U46')"
     },
     "execution_count": 57,
     "metadata": {},
     "output_type": "execute_result"
    }
   ],
   "source": [
    "import numpy as np\n",
    "files = np.array([os.path.join(cfg.representative_data_path,i) for i in os.listdir(cfg.representative_data_path)])\n",
    "labels = np.array([])\n",
    "random_choice = np.random.choice(range(list.__len__()),size=100,)\n",
    "print(random_choice)\n",
    "source_list = files[random_choice]\n",
    "source_list"
   ],
   "metadata": {
    "collapsed": false,
    "pycharm": {
     "name": "#%%\n"
    }
   }
  },
  {
   "cell_type": "code",
   "execution_count": 58,
   "outputs": [
    {
     "ename": "AttributeError",
     "evalue": "module 'config.configure' has no attribute 'total_txt'",
     "output_type": "error",
     "traceback": [
      "\u001B[1;31m---------------------------------------------------------------------------\u001B[0m",
      "\u001B[1;31mAttributeError\u001B[0m                            Traceback (most recent call last)",
      "\u001B[1;32m~\\AppData\\Local\\Temp\\ipykernel_15580\\3384094406.py\u001B[0m in \u001B[0;36m<module>\u001B[1;34m\u001B[0m\n\u001B[0;32m      2\u001B[0m \u001B[0mfiles_list\u001B[0m \u001B[1;33m=\u001B[0m \u001B[1;33m[\u001B[0m\u001B[1;33m]\u001B[0m\u001B[1;33m\u001B[0m\u001B[1;33m\u001B[0m\u001B[0m\n\u001B[0;32m      3\u001B[0m \u001B[0mlabels_list\u001B[0m \u001B[1;33m=\u001B[0m \u001B[1;33m[\u001B[0m\u001B[1;33m]\u001B[0m\u001B[1;33m\u001B[0m\u001B[1;33m\u001B[0m\u001B[0m\n\u001B[1;32m----> 4\u001B[1;33m \u001B[0mprint\u001B[0m\u001B[1;33m(\u001B[0m\u001B[0mcfg\u001B[0m\u001B[1;33m.\u001B[0m\u001B[0mtotal_txt\u001B[0m\u001B[1;33m)\u001B[0m\u001B[1;33m\u001B[0m\u001B[1;33m\u001B[0m\u001B[0m\n\u001B[0m\u001B[0;32m      5\u001B[0m \u001B[1;31m# with open(file=cfg.total_txt,encoding='utf-8') as files:\u001B[0m\u001B[1;33m\u001B[0m\u001B[1;33m\u001B[0m\u001B[1;33m\u001B[0m\u001B[0m\n\u001B[0;32m      6\u001B[0m \u001B[1;31m#     for file in files:\u001B[0m\u001B[1;33m\u001B[0m\u001B[1;33m\u001B[0m\u001B[1;33m\u001B[0m\u001B[0m\n",
      "\u001B[1;31mAttributeError\u001B[0m: module 'config.configure' has no attribute 'total_txt'"
     ]
    }
   ],
   "source": [
    "from PIL import Image\n",
    "files_list = []\n",
    "labels_list = []\n",
    "print(cfg.total_txt)\n",
    "# with open(file=cfg.total_txt,encoding='utf-8') as files:\n",
    "#     for file in files:\n",
    "#         files_list.append(os.path.join(r'VOCdevkit/VOC2012/JPEGImages',file[-1]+'.jpg'))\n",
    "#         labels_list.append(os.path.join(r'VOCdevkit/VOC2012/SegmentationClass',file[-1]+'.png'))\n",
    "# print(files_list)"
   ],
   "metadata": {
    "collapsed": false,
    "pycharm": {
     "name": "#%%\n"
    }
   }
  },
  {
   "cell_type": "code",
   "execution_count": null,
   "outputs": [],
   "source": [],
   "metadata": {
    "collapsed": false,
    "pycharm": {
     "name": "#%%\n"
    }
   }
  }
 ],
 "metadata": {
  "kernelspec": {
   "display_name": "Python 3",
   "language": "python",
   "name": "python3"
  },
  "language_info": {
   "codemirror_mode": {
    "name": "ipython",
    "version": 2
   },
   "file_extension": ".py",
   "mimetype": "text/x-python",
   "name": "python",
   "nbconvert_exporter": "python",
   "pygments_lexer": "ipython2",
   "version": "2.7.6"
  }
 },
 "nbformat": 4,
 "nbformat_minor": 0
}